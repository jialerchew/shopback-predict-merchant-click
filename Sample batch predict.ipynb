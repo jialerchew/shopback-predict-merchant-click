{
 "cells": [
  {
   "cell_type": "code",
   "execution_count": 1,
   "id": "81f57fd0",
   "metadata": {},
   "outputs": [
    {
     "name": "stdout",
     "output_type": "stream",
     "text": [
      "[\n",
      "  {\n",
      "    \"account_referral\": \"inviteonly5000\", \n",
      "    \"average_weekly_click_count\": \"0.5\", \n",
      "    \"channel\": \"paid_ins_organic\", \n",
      "    \"click_count\": \"10\", \n",
      "    \"click_count_most_clicked_merchant_id\": \"5\", \n",
      "    \"created_dayofweek\": \"Monday\", \n",
      "    \"created_hour\": \"12\", \n",
      "    \"device\": \"mobile_android\", \n",
      "    \"first_click_in_2021\": \"False\", \n",
      "    \"lifetime_first_merchant_id\": \"12208\", \n",
      "    \"most_clicked_merchant_id\": \"77\", \n",
      "    \"platform\": \"Android App\", \n",
      "    \"prediction\": \"40\", \n",
      "    \"time_diff_since_last_click_current_year_in_minutes\": \"6490.5\"\n",
      "  }, \n",
      "  {\n",
      "    \"account_referral\": \"sign up\", \n",
      "    \"average_weekly_click_count\": \"0.01\", \n",
      "    \"channel\": \"(No value)\", \n",
      "    \"click_count\": \"0\", \n",
      "    \"click_count_most_clicked_merchant_id\": \"0\", \n",
      "    \"created_dayofweek\": \"Monday\", \n",
      "    \"created_hour\": \"12\", \n",
      "    \"device\": \"(No value)\", \n",
      "    \"first_click_in_2021\": \"True\", \n",
      "    \"lifetime_first_merchant_id\": \"(No value)\", \n",
      "    \"most_clicked_merchant_id\": \"1\", \n",
      "    \"platform\": \"Web\", \n",
      "    \"prediction\": \"1\", \n",
      "    \"time_diff_since_last_click_current_year_in_minutes\": \"0\"\n",
      "  }\n",
      "]\n",
      "\n"
     ]
    }
   ],
   "source": [
    "import urllib.request\n",
    "import json\n",
    "\n",
    "url = 'http://localhost:5000/batch_predict'\n",
    "payload = [\n",
    "    {\n",
    "        'device':'mobile_android',\n",
    "        'platform':'Android App',\n",
    "        'channel':'paid_ins_organic',\n",
    "        'created_hour':'12',\n",
    "        'created_dayofweek':'Monday',\n",
    "        'first_click_in_2021': 'False',\n",
    "        'time_diff_since_last_click_current_year_in_minutes':'6490.5',\n",
    "        'lifetime_first_merchant_id':'12208',\n",
    "        'account_referral':'inviteonly5000',\n",
    "        'click_count':'10',\n",
    "        'average_weekly_click_count':'0.5',\n",
    "        'most_clicked_merchant_id':'77',\n",
    "        'click_count_most_clicked_merchant_id':'5'\n",
    "    },\n",
    "    {\n",
    "        'device':'(No value)',\n",
    "        'platform':'Web',\n",
    "        'channel':'(No value)',\n",
    "        'created_hour':'12',\n",
    "        'created_dayofweek':'Monday',\n",
    "        'first_click_in_2021': 'True',\n",
    "        'time_diff_since_last_click_current_year_in_minutes':'0',\n",
    "        'lifetime_first_merchant_id':'(No value)',\n",
    "        'account_referral':'sign up',\n",
    "        'click_count':'0',\n",
    "        'average_weekly_click_count':'0.01',\n",
    "        'most_clicked_merchant_id':'1',\n",
    "        'click_count_most_clicked_merchant_id':'0'\n",
    "    }           \n",
    "]\n",
    "req = urllib.request.Request(url)\n",
    "req.add_header('Content-Type', 'application/json')\n",
    "jsondata = json.dumps(payload)\n",
    "jsondataasbytes = jsondata.encode('utf-8')   # needs to be bytes\n",
    "response = urllib.request.urlopen(req, jsondataasbytes)\n",
    "\n",
    "print(response.read().decode())"
   ]
  },
  {
   "cell_type": "code",
   "execution_count": null,
   "id": "b6f64229",
   "metadata": {},
   "outputs": [],
   "source": []
  }
 ],
 "metadata": {
  "kernelspec": {
   "display_name": "shopback",
   "language": "python",
   "name": "shopback"
  },
  "language_info": {
   "codemirror_mode": {
    "name": "ipython",
    "version": 3
   },
   "file_extension": ".py",
   "mimetype": "text/x-python",
   "name": "python",
   "nbconvert_exporter": "python",
   "pygments_lexer": "ipython3",
   "version": "3.9.4"
  }
 },
 "nbformat": 4,
 "nbformat_minor": 5
}
